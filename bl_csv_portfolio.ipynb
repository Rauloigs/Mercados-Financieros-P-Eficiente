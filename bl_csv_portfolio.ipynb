{
  "cells": [
    {
      "cell_type": "markdown",
      "metadata": {
        "id": "view-in-github",
        "colab_type": "text"
      },
      "source": [
        "<a href=\"https://colab.research.google.com/github/Rauloigs/Mercados-Financieros-P-Eficiente/blob/main/bl_csv_portfolio.ipynb\" target=\"_parent\"><img src=\"https://colab.research.google.com/assets/colab-badge.svg\" alt=\"Open In Colab\"/></a>"
      ]
    },
    {
      "cell_type": "code",
      "execution_count": null,
      "id": "f66240c7-9c52-4eec-bfbf-72b891933935",
      "metadata": {
        "id": "f66240c7-9c52-4eec-bfbf-72b891933935",
        "outputId": "4463d602-9c1e-441b-ed3e-6d6cec400aa1"
      },
      "outputs": [
        {
          "name": "stdout",
          "output_type": "stream",
          "text": [
            "The autoreload extension is already loaded. To reload it, use:\n",
            "  %reload_ext autoreload\n"
          ]
        }
      ],
      "source": [
        "%load_ext autoreload\n",
        "%autoreload 2"
      ]
    },
    {
      "cell_type": "code",
      "execution_count": null,
      "id": "123b30e2-6a13-479d-9996-c6bae4ea7fe5",
      "metadata": {
        "id": "123b30e2-6a13-479d-9996-c6bae4ea7fe5"
      },
      "outputs": [],
      "source": [
        "import blpor as blpor\n",
        "# from sklearn.linear_model import LinearRegression\n",
        "import pandas as pd\n",
        "import numpy as np\n",
        "# import matplotlib.pyplot as plt\n",
        "# import altair as alt\n",
        "import statsmodels.api as sm"
      ]
    },
    {
      "cell_type": "markdown",
      "id": "a283ccf9-32a6-4c36-b902-0bfd20255922",
      "metadata": {
        "id": "a283ccf9-32a6-4c36-b902-0bfd20255922"
      },
      "source": [
        "### Obtener Retornos Equities & Market\n",
        "- Un df de Equities\n",
        "- Un Pandas Series de Market"
      ]
    },
    {
      "cell_type": "code",
      "execution_count": null,
      "id": "e9736967-7d7b-4819-b5d8-1a1d6886d551",
      "metadata": {
        "id": "e9736967-7d7b-4819-b5d8-1a1d6886d551",
        "outputId": "084e73a2-744f-4af5-99ec-2a6cad9c60b2"
      },
      "outputs": [
        {
          "data": {
            "text/html": [
              "<div>\n",
              "<style scoped>\n",
              "    .dataframe tbody tr th:only-of-type {\n",
              "        vertical-align: middle;\n",
              "    }\n",
              "\n",
              "    .dataframe tbody tr th {\n",
              "        vertical-align: top;\n",
              "    }\n",
              "\n",
              "    .dataframe thead th {\n",
              "        text-align: right;\n",
              "    }\n",
              "</style>\n",
              "<table border=\"1\" class=\"dataframe\">\n",
              "  <thead>\n",
              "    <tr style=\"text-align: right;\">\n",
              "      <th></th>\n",
              "      <th>META</th>\n",
              "      <th>PLD</th>\n",
              "      <th>CVX</th>\n",
              "      <th>BA</th>\n",
              "      <th>ABT</th>\n",
              "      <th>AXP</th>\n",
              "      <th>DD</th>\n",
              "      <th>VZ</th>\n",
              "      <th>KO</th>\n",
              "      <th>NKE</th>\n",
              "    </tr>\n",
              "  </thead>\n",
              "  <tbody>\n",
              "    <tr>\n",
              "      <th>2022-02-28</th>\n",
              "      <td>0.002610</td>\n",
              "      <td>-0.017670</td>\n",
              "      <td>0.025460</td>\n",
              "      <td>0.018977</td>\n",
              "      <td>-0.014731</td>\n",
              "      <td>0.004276</td>\n",
              "      <td>-0.009007</td>\n",
              "      <td>-0.008350</td>\n",
              "      <td>-0.009753</td>\n",
              "      <td>-0.016343</td>\n",
              "    </tr>\n",
              "    <tr>\n",
              "      <th>2022-03-01</th>\n",
              "      <td>-0.036383</td>\n",
              "      <td>-0.000617</td>\n",
              "      <td>0.038954</td>\n",
              "      <td>-0.052129</td>\n",
              "      <td>-0.020521</td>\n",
              "      <td>-0.088517</td>\n",
              "      <td>-0.022878</td>\n",
              "      <td>-0.001119</td>\n",
              "      <td>-0.004347</td>\n",
              "      <td>-0.032224</td>\n",
              "    </tr>\n",
              "    <tr>\n",
              "      <th>2022-03-02</th>\n",
              "      <td>0.022450</td>\n",
              "      <td>0.012815</td>\n",
              "      <td>0.029094</td>\n",
              "      <td>0.014769</td>\n",
              "      <td>0.018363</td>\n",
              "      <td>0.012557</td>\n",
              "      <td>0.019382</td>\n",
              "      <td>0.009838</td>\n",
              "      <td>0.007396</td>\n",
              "      <td>0.025832</td>\n",
              "    </tr>\n",
              "  </tbody>\n",
              "</table>\n",
              "</div>"
            ],
            "text/plain": [
              "                META       PLD       CVX        BA       ABT       AXP  \\\n",
              "2022-02-28  0.002610 -0.017670  0.025460  0.018977 -0.014731  0.004276   \n",
              "2022-03-01 -0.036383 -0.000617  0.038954 -0.052129 -0.020521 -0.088517   \n",
              "2022-03-02  0.022450  0.012815  0.029094  0.014769  0.018363  0.012557   \n",
              "\n",
              "                  DD        VZ        KO       NKE  \n",
              "2022-02-28 -0.009007 -0.008350 -0.009753 -0.016343  \n",
              "2022-03-01 -0.022878 -0.001119 -0.004347 -0.032224  \n",
              "2022-03-02  0.019382  0.009838  0.007396  0.025832  "
            ]
          },
          "execution_count": 172,
          "metadata": {},
          "output_type": "execute_result"
        }
      ],
      "source": [
        "benchmark_returns = blpor.get_returns_spx()\n",
        "asset_returns = blpor.get_returns_equities()\n",
        "asset_returns.head(3)"
      ]
    },
    {
      "cell_type": "markdown",
      "id": "bfdfa9aa-eb96-40f7-89b0-cdec66281a27",
      "metadata": {
        "id": "bfdfa9aa-eb96-40f7-89b0-cdec66281a27"
      },
      "source": [
        "### Matriz de Correlaciones"
      ]
    },
    {
      "cell_type": "code",
      "execution_count": null,
      "id": "73902243-fc69-434f-a922-edb8673a7b3e",
      "metadata": {
        "id": "73902243-fc69-434f-a922-edb8673a7b3e",
        "outputId": "ac0023bd-ebf5-4a31-dbf6-66f5be9bb66e"
      },
      "outputs": [
        {
          "data": {
            "text/html": [
              "<style type=\"text/css\">\n",
              "#T_5d62b_row0_col0, #T_5d62b_row1_col1, #T_5d62b_row2_col2, #T_5d62b_row3_col3, #T_5d62b_row4_col4, #T_5d62b_row5_col5, #T_5d62b_row6_col6, #T_5d62b_row7_col7, #T_5d62b_row8_col8, #T_5d62b_row9_col9 {\n",
              "  color: black;\n",
              "}\n",
              "#T_5d62b_row0_col1, #T_5d62b_row0_col2, #T_5d62b_row0_col3, #T_5d62b_row0_col4, #T_5d62b_row0_col5, #T_5d62b_row0_col6, #T_5d62b_row0_col7, #T_5d62b_row0_col8, #T_5d62b_row0_col9, #T_5d62b_row1_col0, #T_5d62b_row1_col2, #T_5d62b_row1_col3, #T_5d62b_row1_col5, #T_5d62b_row1_col6, #T_5d62b_row1_col7, #T_5d62b_row1_col8, #T_5d62b_row1_col9, #T_5d62b_row2_col0, #T_5d62b_row2_col1, #T_5d62b_row2_col3, #T_5d62b_row2_col4, #T_5d62b_row2_col5, #T_5d62b_row2_col6, #T_5d62b_row2_col7, #T_5d62b_row2_col8, #T_5d62b_row2_col9, #T_5d62b_row3_col0, #T_5d62b_row3_col1, #T_5d62b_row3_col2, #T_5d62b_row3_col4, #T_5d62b_row3_col5, #T_5d62b_row3_col6, #T_5d62b_row3_col7, #T_5d62b_row3_col8, #T_5d62b_row3_col9, #T_5d62b_row4_col0, #T_5d62b_row4_col2, #T_5d62b_row4_col3, #T_5d62b_row4_col5, #T_5d62b_row4_col6, #T_5d62b_row4_col7, #T_5d62b_row4_col8, #T_5d62b_row4_col9, #T_5d62b_row5_col0, #T_5d62b_row5_col1, #T_5d62b_row5_col2, #T_5d62b_row5_col3, #T_5d62b_row5_col4, #T_5d62b_row5_col7, #T_5d62b_row5_col8, #T_5d62b_row5_col9, #T_5d62b_row6_col0, #T_5d62b_row6_col1, #T_5d62b_row6_col2, #T_5d62b_row6_col3, #T_5d62b_row6_col4, #T_5d62b_row6_col7, #T_5d62b_row6_col8, #T_5d62b_row6_col9, #T_5d62b_row7_col0, #T_5d62b_row7_col1, #T_5d62b_row7_col2, #T_5d62b_row7_col3, #T_5d62b_row7_col4, #T_5d62b_row7_col5, #T_5d62b_row7_col6, #T_5d62b_row7_col8, #T_5d62b_row7_col9, #T_5d62b_row8_col0, #T_5d62b_row8_col1, #T_5d62b_row8_col2, #T_5d62b_row8_col3, #T_5d62b_row8_col4, #T_5d62b_row8_col5, #T_5d62b_row8_col6, #T_5d62b_row8_col7, #T_5d62b_row8_col9, #T_5d62b_row9_col0, #T_5d62b_row9_col1, #T_5d62b_row9_col2, #T_5d62b_row9_col3, #T_5d62b_row9_col4, #T_5d62b_row9_col5, #T_5d62b_row9_col6, #T_5d62b_row9_col7, #T_5d62b_row9_col8 {\n",
              "  color: green;\n",
              "}\n",
              "#T_5d62b_row1_col4, #T_5d62b_row4_col1, #T_5d62b_row5_col6, #T_5d62b_row6_col5 {\n",
              "  color: red;\n",
              "}\n",
              "</style>\n",
              "<table id=\"T_5d62b\">\n",
              "  <thead>\n",
              "    <tr>\n",
              "      <th class=\"blank level0\" >&nbsp;</th>\n",
              "      <th id=\"T_5d62b_level0_col0\" class=\"col_heading level0 col0\" >META</th>\n",
              "      <th id=\"T_5d62b_level0_col1\" class=\"col_heading level0 col1\" >PLD</th>\n",
              "      <th id=\"T_5d62b_level0_col2\" class=\"col_heading level0 col2\" >CVX</th>\n",
              "      <th id=\"T_5d62b_level0_col3\" class=\"col_heading level0 col3\" >BA</th>\n",
              "      <th id=\"T_5d62b_level0_col4\" class=\"col_heading level0 col4\" >ABT</th>\n",
              "      <th id=\"T_5d62b_level0_col5\" class=\"col_heading level0 col5\" >AXP</th>\n",
              "      <th id=\"T_5d62b_level0_col6\" class=\"col_heading level0 col6\" >DD</th>\n",
              "      <th id=\"T_5d62b_level0_col7\" class=\"col_heading level0 col7\" >VZ</th>\n",
              "      <th id=\"T_5d62b_level0_col8\" class=\"col_heading level0 col8\" >KO</th>\n",
              "      <th id=\"T_5d62b_level0_col9\" class=\"col_heading level0 col9\" >NKE</th>\n",
              "    </tr>\n",
              "  </thead>\n",
              "  <tbody>\n",
              "    <tr>\n",
              "      <th id=\"T_5d62b_level0_row0\" class=\"row_heading level0 row0\" >META</th>\n",
              "      <td id=\"T_5d62b_row0_col0\" class=\"data row0 col0\" >1.000000</td>\n",
              "      <td id=\"T_5d62b_row0_col1\" class=\"data row0 col1\" >0.277062</td>\n",
              "      <td id=\"T_5d62b_row0_col2\" class=\"data row0 col2\" >0.099784</td>\n",
              "      <td id=\"T_5d62b_row0_col3\" class=\"data row0 col3\" >0.288545</td>\n",
              "      <td id=\"T_5d62b_row0_col4\" class=\"data row0 col4\" >0.259458</td>\n",
              "      <td id=\"T_5d62b_row0_col5\" class=\"data row0 col5\" >0.388813</td>\n",
              "      <td id=\"T_5d62b_row0_col6\" class=\"data row0 col6\" >0.327062</td>\n",
              "      <td id=\"T_5d62b_row0_col7\" class=\"data row0 col7\" >0.085503</td>\n",
              "      <td id=\"T_5d62b_row0_col8\" class=\"data row0 col8\" >0.116194</td>\n",
              "      <td id=\"T_5d62b_row0_col9\" class=\"data row0 col9\" >0.333437</td>\n",
              "    </tr>\n",
              "    <tr>\n",
              "      <th id=\"T_5d62b_level0_row1\" class=\"row_heading level0 row1\" >PLD</th>\n",
              "      <td id=\"T_5d62b_row1_col0\" class=\"data row1 col0\" >0.277062</td>\n",
              "      <td id=\"T_5d62b_row1_col1\" class=\"data row1 col1\" >1.000000</td>\n",
              "      <td id=\"T_5d62b_row1_col2\" class=\"data row1 col2\" >0.239208</td>\n",
              "      <td id=\"T_5d62b_row1_col3\" class=\"data row1 col3\" >0.373036</td>\n",
              "      <td id=\"T_5d62b_row1_col4\" class=\"data row1 col4\" >0.510292</td>\n",
              "      <td id=\"T_5d62b_row1_col5\" class=\"data row1 col5\" >0.458777</td>\n",
              "      <td id=\"T_5d62b_row1_col6\" class=\"data row1 col6\" >0.439296</td>\n",
              "      <td id=\"T_5d62b_row1_col7\" class=\"data row1 col7\" >0.271757</td>\n",
              "      <td id=\"T_5d62b_row1_col8\" class=\"data row1 col8\" >0.399502</td>\n",
              "      <td id=\"T_5d62b_row1_col9\" class=\"data row1 col9\" >0.376912</td>\n",
              "    </tr>\n",
              "    <tr>\n",
              "      <th id=\"T_5d62b_level0_row2\" class=\"row_heading level0 row2\" >CVX</th>\n",
              "      <td id=\"T_5d62b_row2_col0\" class=\"data row2 col0\" >0.099784</td>\n",
              "      <td id=\"T_5d62b_row2_col1\" class=\"data row2 col1\" >0.239208</td>\n",
              "      <td id=\"T_5d62b_row2_col2\" class=\"data row2 col2\" >1.000000</td>\n",
              "      <td id=\"T_5d62b_row2_col3\" class=\"data row2 col3\" >0.209482</td>\n",
              "      <td id=\"T_5d62b_row2_col4\" class=\"data row2 col4\" >0.147673</td>\n",
              "      <td id=\"T_5d62b_row2_col5\" class=\"data row2 col5\" >0.279765</td>\n",
              "      <td id=\"T_5d62b_row2_col6\" class=\"data row2 col6\" >0.339436</td>\n",
              "      <td id=\"T_5d62b_row2_col7\" class=\"data row2 col7\" >0.180485</td>\n",
              "      <td id=\"T_5d62b_row2_col8\" class=\"data row2 col8\" >0.164541</td>\n",
              "      <td id=\"T_5d62b_row2_col9\" class=\"data row2 col9\" >0.214231</td>\n",
              "    </tr>\n",
              "    <tr>\n",
              "      <th id=\"T_5d62b_level0_row3\" class=\"row_heading level0 row3\" >BA</th>\n",
              "      <td id=\"T_5d62b_row3_col0\" class=\"data row3 col0\" >0.288545</td>\n",
              "      <td id=\"T_5d62b_row3_col1\" class=\"data row3 col1\" >0.373036</td>\n",
              "      <td id=\"T_5d62b_row3_col2\" class=\"data row3 col2\" >0.209482</td>\n",
              "      <td id=\"T_5d62b_row3_col3\" class=\"data row3 col3\" >1.000000</td>\n",
              "      <td id=\"T_5d62b_row3_col4\" class=\"data row3 col4\" >0.278705</td>\n",
              "      <td id=\"T_5d62b_row3_col5\" class=\"data row3 col5\" >0.438475</td>\n",
              "      <td id=\"T_5d62b_row3_col6\" class=\"data row3 col6\" >0.393980</td>\n",
              "      <td id=\"T_5d62b_row3_col7\" class=\"data row3 col7\" >0.098523</td>\n",
              "      <td id=\"T_5d62b_row3_col8\" class=\"data row3 col8\" >0.183689</td>\n",
              "      <td id=\"T_5d62b_row3_col9\" class=\"data row3 col9\" >0.360921</td>\n",
              "    </tr>\n",
              "    <tr>\n",
              "      <th id=\"T_5d62b_level0_row4\" class=\"row_heading level0 row4\" >ABT</th>\n",
              "      <td id=\"T_5d62b_row4_col0\" class=\"data row4 col0\" >0.259458</td>\n",
              "      <td id=\"T_5d62b_row4_col1\" class=\"data row4 col1\" >0.510292</td>\n",
              "      <td id=\"T_5d62b_row4_col2\" class=\"data row4 col2\" >0.147673</td>\n",
              "      <td id=\"T_5d62b_row4_col3\" class=\"data row4 col3\" >0.278705</td>\n",
              "      <td id=\"T_5d62b_row4_col4\" class=\"data row4 col4\" >1.000000</td>\n",
              "      <td id=\"T_5d62b_row4_col5\" class=\"data row4 col5\" >0.356797</td>\n",
              "      <td id=\"T_5d62b_row4_col6\" class=\"data row4 col6\" >0.356296</td>\n",
              "      <td id=\"T_5d62b_row4_col7\" class=\"data row4 col7\" >0.286415</td>\n",
              "      <td id=\"T_5d62b_row4_col8\" class=\"data row4 col8\" >0.457240</td>\n",
              "      <td id=\"T_5d62b_row4_col9\" class=\"data row4 col9\" >0.363861</td>\n",
              "    </tr>\n",
              "    <tr>\n",
              "      <th id=\"T_5d62b_level0_row5\" class=\"row_heading level0 row5\" >AXP</th>\n",
              "      <td id=\"T_5d62b_row5_col0\" class=\"data row5 col0\" >0.388813</td>\n",
              "      <td id=\"T_5d62b_row5_col1\" class=\"data row5 col1\" >0.458777</td>\n",
              "      <td id=\"T_5d62b_row5_col2\" class=\"data row5 col2\" >0.279765</td>\n",
              "      <td id=\"T_5d62b_row5_col3\" class=\"data row5 col3\" >0.438475</td>\n",
              "      <td id=\"T_5d62b_row5_col4\" class=\"data row5 col4\" >0.356797</td>\n",
              "      <td id=\"T_5d62b_row5_col5\" class=\"data row5 col5\" >1.000000</td>\n",
              "      <td id=\"T_5d62b_row5_col6\" class=\"data row5 col6\" >0.510399</td>\n",
              "      <td id=\"T_5d62b_row5_col7\" class=\"data row5 col7\" >0.186512</td>\n",
              "      <td id=\"T_5d62b_row5_col8\" class=\"data row5 col8\" >0.264920</td>\n",
              "      <td id=\"T_5d62b_row5_col9\" class=\"data row5 col9\" >0.395140</td>\n",
              "    </tr>\n",
              "    <tr>\n",
              "      <th id=\"T_5d62b_level0_row6\" class=\"row_heading level0 row6\" >DD</th>\n",
              "      <td id=\"T_5d62b_row6_col0\" class=\"data row6 col0\" >0.327062</td>\n",
              "      <td id=\"T_5d62b_row6_col1\" class=\"data row6 col1\" >0.439296</td>\n",
              "      <td id=\"T_5d62b_row6_col2\" class=\"data row6 col2\" >0.339436</td>\n",
              "      <td id=\"T_5d62b_row6_col3\" class=\"data row6 col3\" >0.393980</td>\n",
              "      <td id=\"T_5d62b_row6_col4\" class=\"data row6 col4\" >0.356296</td>\n",
              "      <td id=\"T_5d62b_row6_col5\" class=\"data row6 col5\" >0.510399</td>\n",
              "      <td id=\"T_5d62b_row6_col6\" class=\"data row6 col6\" >1.000000</td>\n",
              "      <td id=\"T_5d62b_row6_col7\" class=\"data row6 col7\" >0.193199</td>\n",
              "      <td id=\"T_5d62b_row6_col8\" class=\"data row6 col8\" >0.321273</td>\n",
              "      <td id=\"T_5d62b_row6_col9\" class=\"data row6 col9\" >0.419762</td>\n",
              "    </tr>\n",
              "    <tr>\n",
              "      <th id=\"T_5d62b_level0_row7\" class=\"row_heading level0 row7\" >VZ</th>\n",
              "      <td id=\"T_5d62b_row7_col0\" class=\"data row7 col0\" >0.085503</td>\n",
              "      <td id=\"T_5d62b_row7_col1\" class=\"data row7 col1\" >0.271757</td>\n",
              "      <td id=\"T_5d62b_row7_col2\" class=\"data row7 col2\" >0.180485</td>\n",
              "      <td id=\"T_5d62b_row7_col3\" class=\"data row7 col3\" >0.098523</td>\n",
              "      <td id=\"T_5d62b_row7_col4\" class=\"data row7 col4\" >0.286415</td>\n",
              "      <td id=\"T_5d62b_row7_col5\" class=\"data row7 col5\" >0.186512</td>\n",
              "      <td id=\"T_5d62b_row7_col6\" class=\"data row7 col6\" >0.193199</td>\n",
              "      <td id=\"T_5d62b_row7_col7\" class=\"data row7 col7\" >1.000000</td>\n",
              "      <td id=\"T_5d62b_row7_col8\" class=\"data row7 col8\" >0.348130</td>\n",
              "      <td id=\"T_5d62b_row7_col9\" class=\"data row7 col9\" >0.180413</td>\n",
              "    </tr>\n",
              "    <tr>\n",
              "      <th id=\"T_5d62b_level0_row8\" class=\"row_heading level0 row8\" >KO</th>\n",
              "      <td id=\"T_5d62b_row8_col0\" class=\"data row8 col0\" >0.116194</td>\n",
              "      <td id=\"T_5d62b_row8_col1\" class=\"data row8 col1\" >0.399502</td>\n",
              "      <td id=\"T_5d62b_row8_col2\" class=\"data row8 col2\" >0.164541</td>\n",
              "      <td id=\"T_5d62b_row8_col3\" class=\"data row8 col3\" >0.183689</td>\n",
              "      <td id=\"T_5d62b_row8_col4\" class=\"data row8 col4\" >0.457240</td>\n",
              "      <td id=\"T_5d62b_row8_col5\" class=\"data row8 col5\" >0.264920</td>\n",
              "      <td id=\"T_5d62b_row8_col6\" class=\"data row8 col6\" >0.321273</td>\n",
              "      <td id=\"T_5d62b_row8_col7\" class=\"data row8 col7\" >0.348130</td>\n",
              "      <td id=\"T_5d62b_row8_col8\" class=\"data row8 col8\" >1.000000</td>\n",
              "      <td id=\"T_5d62b_row8_col9\" class=\"data row8 col9\" >0.343108</td>\n",
              "    </tr>\n",
              "    <tr>\n",
              "      <th id=\"T_5d62b_level0_row9\" class=\"row_heading level0 row9\" >NKE</th>\n",
              "      <td id=\"T_5d62b_row9_col0\" class=\"data row9 col0\" >0.333437</td>\n",
              "      <td id=\"T_5d62b_row9_col1\" class=\"data row9 col1\" >0.376912</td>\n",
              "      <td id=\"T_5d62b_row9_col2\" class=\"data row9 col2\" >0.214231</td>\n",
              "      <td id=\"T_5d62b_row9_col3\" class=\"data row9 col3\" >0.360921</td>\n",
              "      <td id=\"T_5d62b_row9_col4\" class=\"data row9 col4\" >0.363861</td>\n",
              "      <td id=\"T_5d62b_row9_col5\" class=\"data row9 col5\" >0.395140</td>\n",
              "      <td id=\"T_5d62b_row9_col6\" class=\"data row9 col6\" >0.419762</td>\n",
              "      <td id=\"T_5d62b_row9_col7\" class=\"data row9 col7\" >0.180413</td>\n",
              "      <td id=\"T_5d62b_row9_col8\" class=\"data row9 col8\" >0.343108</td>\n",
              "      <td id=\"T_5d62b_row9_col9\" class=\"data row9 col9\" >1.000000</td>\n",
              "    </tr>\n",
              "  </tbody>\n",
              "</table>\n"
            ],
            "text/plain": [
              "<pandas.io.formats.style.Styler at 0x13a79c760>"
            ]
          },
          "execution_count": 173,
          "metadata": {},
          "output_type": "execute_result"
        }
      ],
      "source": [
        "corr = asset_returns.corr()\n",
        "corr_matrix = corr.style.map(blpor.color_negative_red)\n",
        "corr_matrix"
      ]
    },
    {
      "cell_type": "markdown",
      "id": "967fa161-305c-4e72-a675-c4989af8fff5",
      "metadata": {
        "id": "967fa161-305c-4e72-a675-c4989af8fff5"
      },
      "source": [
        "### Retornos\n",
        "1. Retornos Promedio\n",
        "2. Retornos CAPM"
      ]
    },
    {
      "cell_type": "markdown",
      "id": "ff372c49-7a42-48b5-b8f5-adb14bea90c0",
      "metadata": {
        "id": "ff372c49-7a42-48b5-b8f5-adb14bea90c0"
      },
      "source": [
        "#### 1. Retornos Promedio\n",
        "Obtenemos los retornos históricos de la serie."
      ]
    },
    {
      "cell_type": "code",
      "execution_count": null,
      "id": "405195c6-90da-458c-a933-3b2568dcd4ec",
      "metadata": {
        "id": "405195c6-90da-458c-a933-3b2568dcd4ec",
        "outputId": "3548fa27-bf46-44d2-ef71-4df7b6300f1e"
      },
      "outputs": [
        {
          "data": {
            "text/html": [
              "<div>\n",
              "<style scoped>\n",
              "    .dataframe tbody tr th:only-of-type {\n",
              "        vertical-align: middle;\n",
              "    }\n",
              "\n",
              "    .dataframe tbody tr th {\n",
              "        vertical-align: top;\n",
              "    }\n",
              "\n",
              "    .dataframe thead th {\n",
              "        text-align: right;\n",
              "    }\n",
              "</style>\n",
              "<table border=\"1\" class=\"dataframe\">\n",
              "  <thead>\n",
              "    <tr style=\"text-align: right;\">\n",
              "      <th></th>\n",
              "      <th>ER Mean</th>\n",
              "    </tr>\n",
              "  </thead>\n",
              "  <tbody>\n",
              "    <tr>\n",
              "      <th>META</th>\n",
              "      <td>0.328858</td>\n",
              "    </tr>\n",
              "    <tr>\n",
              "      <th>PLD</th>\n",
              "      <td>-0.101407</td>\n",
              "    </tr>\n",
              "    <tr>\n",
              "      <th>CVX</th>\n",
              "      <td>0.000644</td>\n",
              "    </tr>\n",
              "    <tr>\n",
              "      <th>BA</th>\n",
              "      <td>-0.111732</td>\n",
              "    </tr>\n",
              "    <tr>\n",
              "      <th>ABT</th>\n",
              "      <td>0.011755</td>\n",
              "    </tr>\n",
              "    <tr>\n",
              "      <th>AXP</th>\n",
              "      <td>0.107285</td>\n",
              "    </tr>\n",
              "    <tr>\n",
              "      <th>DD</th>\n",
              "      <td>-0.024057</td>\n",
              "    </tr>\n",
              "    <tr>\n",
              "      <th>VZ</th>\n",
              "      <td>-0.096470</td>\n",
              "    </tr>\n",
              "    <tr>\n",
              "      <th>KO</th>\n",
              "      <td>0.027584</td>\n",
              "    </tr>\n",
              "    <tr>\n",
              "      <th>NKE</th>\n",
              "      <td>-0.216525</td>\n",
              "    </tr>\n",
              "  </tbody>\n",
              "</table>\n",
              "</div>"
            ],
            "text/plain": [
              "       ER Mean\n",
              "META  0.328858\n",
              "PLD  -0.101407\n",
              "CVX   0.000644\n",
              "BA   -0.111732\n",
              "ABT   0.011755\n",
              "AXP   0.107285\n",
              "DD   -0.024057\n",
              "VZ   -0.096470\n",
              "KO    0.027584\n",
              "NKE  -0.216525"
            ]
          },
          "execution_count": 174,
          "metadata": {},
          "output_type": "execute_result"
        }
      ],
      "source": [
        "ex_rets_pue = blpor.annualize_rets(asset_returns, 252)\n",
        "mean_rets = ex_rets_pue.to_frame(name='ER Mean') # to data frame\n",
        "mean_rets"
      ]
    },
    {
      "cell_type": "markdown",
      "id": "d5e3a6e9-9af3-438f-a06d-5d1fe99f176a",
      "metadata": {
        "id": "d5e3a6e9-9af3-438f-a06d-5d1fe99f176a"
      },
      "source": [
        "#### 2. Retornos CAPM\n",
        "- Betas:\n",
        "  **(1) Betas Calculadas** Cálculo de acuerdo al SPX Index, últimos 3 años\n",
        "  **(2)Betas Ajustadas Bloomberg** de acuerdo a la Terminal\n",
        "- Risk Free Rate: Yield USGG3M Index (daily) de los últimos 3 años"
      ]
    },
    {
      "cell_type": "markdown",
      "id": "79889711-513f-46be-a2f7-473edc3e258b",
      "metadata": {
        "id": "79889711-513f-46be-a2f7-473edc3e258b"
      },
      "source": [
        "A continuación observamos la diferencia entre las **Betas Calculadas** vs **Betas Ajustas de la Terminal - Bloomberg**\n",
        "\n",
        "Existe una diferencia considerable (ver columna \"Diferencia\"), utilizaremos las Betas Ajustadas de Bloomberg"
      ]
    },
    {
      "cell_type": "code",
      "execution_count": null,
      "id": "2d197284-7f9f-4b4e-9b3d-6abc1437a579",
      "metadata": {
        "id": "2d197284-7f9f-4b4e-9b3d-6abc1437a579",
        "outputId": "8779c2c2-0fc5-45b0-a4b6-b9dd1802b251"
      },
      "outputs": [
        {
          "data": {
            "text/html": [
              "<div>\n",
              "<style scoped>\n",
              "    .dataframe tbody tr th:only-of-type {\n",
              "        vertical-align: middle;\n",
              "    }\n",
              "\n",
              "    .dataframe tbody tr th {\n",
              "        vertical-align: top;\n",
              "    }\n",
              "\n",
              "    .dataframe thead th {\n",
              "        text-align: right;\n",
              "    }\n",
              "</style>\n",
              "<table border=\"1\" class=\"dataframe\">\n",
              "  <thead>\n",
              "    <tr style=\"text-align: right;\">\n",
              "      <th></th>\n",
              "      <th>Beta (Calculada SPX Index)</th>\n",
              "      <th>Beta Adj Bloomberg</th>\n",
              "      <th>Diferencia</th>\n",
              "    </tr>\n",
              "  </thead>\n",
              "  <tbody>\n",
              "    <tr>\n",
              "      <th>META</th>\n",
              "      <td>1.632025</td>\n",
              "      <td>1.080</td>\n",
              "      <td>-33.82%</td>\n",
              "    </tr>\n",
              "    <tr>\n",
              "      <th>PLD</th>\n",
              "      <td>1.027164</td>\n",
              "      <td>1.176</td>\n",
              "      <td>14.49%</td>\n",
              "    </tr>\n",
              "    <tr>\n",
              "      <th>CVX</th>\n",
              "      <td>0.557418</td>\n",
              "      <td>0.699</td>\n",
              "      <td>25.40%</td>\n",
              "    </tr>\n",
              "    <tr>\n",
              "      <th>BA</th>\n",
              "      <td>1.083497</td>\n",
              "      <td>1.031</td>\n",
              "      <td>-4.85%</td>\n",
              "    </tr>\n",
              "    <tr>\n",
              "      <th>ABT</th>\n",
              "      <td>0.640486</td>\n",
              "      <td>0.620</td>\n",
              "      <td>-3.20%</td>\n",
              "    </tr>\n",
              "    <tr>\n",
              "      <th>AXP</th>\n",
              "      <td>1.163123</td>\n",
              "      <td>1.106</td>\n",
              "      <td>-4.91%</td>\n",
              "    </tr>\n",
              "    <tr>\n",
              "      <th>DD</th>\n",
              "      <td>0.980971</td>\n",
              "      <td>0.867</td>\n",
              "      <td>-11.62%</td>\n",
              "    </tr>\n",
              "    <tr>\n",
              "      <th>VZ</th>\n",
              "      <td>0.318825</td>\n",
              "      <td>0.618</td>\n",
              "      <td>93.84%</td>\n",
              "    </tr>\n",
              "    <tr>\n",
              "      <th>KO</th>\n",
              "      <td>0.384988</td>\n",
              "      <td>0.456</td>\n",
              "      <td>18.45%</td>\n",
              "    </tr>\n",
              "    <tr>\n",
              "      <th>NKE</th>\n",
              "      <td>1.141602</td>\n",
              "      <td>0.818</td>\n",
              "      <td>-28.35%</td>\n",
              "    </tr>\n",
              "  </tbody>\n",
              "</table>\n",
              "</div>"
            ],
            "text/plain": [
              "      Beta (Calculada SPX Index)  Beta Adj Bloomberg Diferencia\n",
              "META                    1.632025               1.080    -33.82%\n",
              "PLD                     1.027164               1.176     14.49%\n",
              "CVX                     0.557418               0.699     25.40%\n",
              "BA                      1.083497               1.031     -4.85%\n",
              "ABT                     0.640486               0.620     -3.20%\n",
              "AXP                     1.163123               1.106     -4.91%\n",
              "DD                      0.980971               0.867    -11.62%\n",
              "VZ                      0.318825               0.618     93.84%\n",
              "KO                      0.384988               0.456     18.45%\n",
              "NKE                     1.141602               0.818    -28.35%"
            ]
          },
          "execution_count": 175,
          "metadata": {},
          "output_type": "execute_result"
        }
      ],
      "source": [
        "betas_calculadas = blpor.get_betas(benchmark_returns, asset_returns)\n",
        "betas_ajustadas_bloomberg = blpor.get_betas_bloomberg()\n",
        "blpor.get_betas_bloomberg_vs_calculadas(betas_adj_bloomberg, betas_calculadas)"
      ]
    },
    {
      "cell_type": "markdown",
      "id": "c4ffec8c-5c0e-4757-96f1-70df222dbce1",
      "metadata": {
        "id": "c4ffec8c-5c0e-4757-96f1-70df222dbce1"
      },
      "source": [
        "Aquí obtenemos el **RF** a partir de **USGG3M Index** durante el mismo periodo de los Retornos de los Activos"
      ]
    },
    {
      "cell_type": "code",
      "execution_count": null,
      "id": "6500ebc0-64b5-4567-a45d-45389bd605da",
      "metadata": {
        "id": "6500ebc0-64b5-4567-a45d-45389bd605da",
        "outputId": "cdc97dfe-f565-42cf-ac22-98f61ffe21f8"
      },
      "outputs": [
        {
          "name": "stdout",
          "output_type": "stream",
          "text": [
            "Risk-free rate: 4.29701%\n"
          ]
        }
      ],
      "source": [
        "usgg3m_rf = blpor.usgg3m_risk_free_rate()\n",
        "print(f\"Risk-free rate: {usgg3m_rf:.5%}\")"
      ]
    },
    {
      "cell_type": "markdown",
      "id": "9e222d9d-83a2-4132-851c-7d9b94785589",
      "metadata": {
        "id": "9e222d9d-83a2-4132-851c-7d9b94785589"
      },
      "source": [
        "Finalmente con las **Betas Ajustadas de Bloomberg** calculamos el **ER CAPM**"
      ]
    },
    {
      "cell_type": "code",
      "execution_count": null,
      "id": "662ad686-302a-42e0-beb2-fe253b97c0bf",
      "metadata": {
        "id": "662ad686-302a-42e0-beb2-fe253b97c0bf",
        "outputId": "ad05c068-ed98-4a59-916d-9c5c36c68bbc"
      },
      "outputs": [
        {
          "data": {
            "text/html": [
              "<div>\n",
              "<style scoped>\n",
              "    .dataframe tbody tr th:only-of-type {\n",
              "        vertical-align: middle;\n",
              "    }\n",
              "\n",
              "    .dataframe tbody tr th {\n",
              "        vertical-align: top;\n",
              "    }\n",
              "\n",
              "    .dataframe thead th {\n",
              "        text-align: right;\n",
              "    }\n",
              "</style>\n",
              "<table border=\"1\" class=\"dataframe\">\n",
              "  <thead>\n",
              "    <tr style=\"text-align: right;\">\n",
              "      <th></th>\n",
              "      <th>ER CAPM</th>\n",
              "    </tr>\n",
              "  </thead>\n",
              "  <tbody>\n",
              "    <tr>\n",
              "      <th>META</th>\n",
              "      <td>0.095906</td>\n",
              "    </tr>\n",
              "    <tr>\n",
              "      <th>PLD</th>\n",
              "      <td>0.100612</td>\n",
              "    </tr>\n",
              "    <tr>\n",
              "      <th>CVX</th>\n",
              "      <td>0.077232</td>\n",
              "    </tr>\n",
              "    <tr>\n",
              "      <th>BA</th>\n",
              "      <td>0.093505</td>\n",
              "    </tr>\n",
              "    <tr>\n",
              "      <th>ABT</th>\n",
              "      <td>0.073359</td>\n",
              "    </tr>\n",
              "    <tr>\n",
              "      <th>AXP</th>\n",
              "      <td>0.097181</td>\n",
              "    </tr>\n",
              "    <tr>\n",
              "      <th>DD</th>\n",
              "      <td>0.085466</td>\n",
              "    </tr>\n",
              "    <tr>\n",
              "      <th>VZ</th>\n",
              "      <td>0.073261</td>\n",
              "    </tr>\n",
              "    <tr>\n",
              "      <th>KO</th>\n",
              "      <td>0.065321</td>\n",
              "    </tr>\n",
              "    <tr>\n",
              "      <th>NKE</th>\n",
              "      <td>0.083064</td>\n",
              "    </tr>\n",
              "  </tbody>\n",
              "</table>\n",
              "</div>"
            ],
            "text/plain": [
              "       ER CAPM\n",
              "META  0.095906\n",
              "PLD   0.100612\n",
              "CVX   0.077232\n",
              "BA    0.093505\n",
              "ABT   0.073359\n",
              "AXP   0.097181\n",
              "DD    0.085466\n",
              "VZ    0.073261\n",
              "KO    0.065321\n",
              "NKE   0.083064"
            ]
          },
          "execution_count": 177,
          "metadata": {},
          "output_type": "execute_result"
        }
      ],
      "source": [
        "capm_rets = blpor.rets_capm_rfmanual(betas_adj_bloomberg, benchmark_returns, risk_free_rate=usgg3m_rf, periods_per_year=252)\n",
        "capm_rets"
      ]
    },
    {
      "cell_type": "markdown",
      "id": "63d7b827-7890-428b-bcc9-68128d675c6a",
      "metadata": {
        "id": "63d7b827-7890-428b-bcc9-68128d675c6a"
      },
      "source": [
        "Ahora comparamos los **Retornos Históricos vs Retornos CAPM**"
      ]
    },
    {
      "cell_type": "code",
      "execution_count": null,
      "id": "e421308e-6de4-4941-acfc-541dbf88a50f",
      "metadata": {
        "id": "e421308e-6de4-4941-acfc-541dbf88a50f",
        "outputId": "27b4f94c-6334-4b0b-cee7-3375fab13681"
      },
      "outputs": [
        {
          "data": {
            "text/html": [
              "\n",
              "<style>\n",
              "  #altair-viz-057951bfa6954ea3976eec9c4618673b.vega-embed {\n",
              "    width: 100%;\n",
              "    display: flex;\n",
              "  }\n",
              "\n",
              "  #altair-viz-057951bfa6954ea3976eec9c4618673b.vega-embed details,\n",
              "  #altair-viz-057951bfa6954ea3976eec9c4618673b.vega-embed details summary {\n",
              "    position: relative;\n",
              "  }\n",
              "</style>\n",
              "<div id=\"altair-viz-057951bfa6954ea3976eec9c4618673b\"></div>\n",
              "<script type=\"text/javascript\">\n",
              "  var VEGA_DEBUG = (typeof VEGA_DEBUG == \"undefined\") ? {} : VEGA_DEBUG;\n",
              "  (function(spec, embedOpt){\n",
              "    let outputDiv = document.currentScript.previousElementSibling;\n",
              "    if (outputDiv.id !== \"altair-viz-057951bfa6954ea3976eec9c4618673b\") {\n",
              "      outputDiv = document.getElementById(\"altair-viz-057951bfa6954ea3976eec9c4618673b\");\n",
              "    }\n",
              "\n",
              "    const paths = {\n",
              "      \"vega\": \"https://cdn.jsdelivr.net/npm/vega@5?noext\",\n",
              "      \"vega-lib\": \"https://cdn.jsdelivr.net/npm/vega-lib?noext\",\n",
              "      \"vega-lite\": \"https://cdn.jsdelivr.net/npm/vega-lite@5.20.1?noext\",\n",
              "      \"vega-embed\": \"https://cdn.jsdelivr.net/npm/vega-embed@6?noext\",\n",
              "    };\n",
              "\n",
              "    function maybeLoadScript(lib, version) {\n",
              "      var key = `${lib.replace(\"-\", \"\")}_version`;\n",
              "      return (VEGA_DEBUG[key] == version) ?\n",
              "        Promise.resolve(paths[lib]) :\n",
              "        new Promise(function(resolve, reject) {\n",
              "          var s = document.createElement('script');\n",
              "          document.getElementsByTagName(\"head\")[0].appendChild(s);\n",
              "          s.async = true;\n",
              "          s.onload = () => {\n",
              "            VEGA_DEBUG[key] = version;\n",
              "            return resolve(paths[lib]);\n",
              "          };\n",
              "          s.onerror = () => reject(`Error loading script: ${paths[lib]}`);\n",
              "          s.src = paths[lib];\n",
              "        });\n",
              "    }\n",
              "\n",
              "    function showError(err) {\n",
              "      outputDiv.innerHTML = `<div class=\"error\" style=\"color:red;\">${err}</div>`;\n",
              "      throw err;\n",
              "    }\n",
              "\n",
              "    function displayChart(vegaEmbed) {\n",
              "      vegaEmbed(outputDiv, spec, embedOpt)\n",
              "        .catch(err => showError(`Javascript Error: ${err.message}<br>This usually means there's a typo in your chart specification. See the javascript console for the full traceback.`));\n",
              "    }\n",
              "\n",
              "    if(typeof define === \"function\" && define.amd) {\n",
              "      requirejs.config({paths});\n",
              "      let deps = [\"vega-embed\"];\n",
              "      require(deps, displayChart, err => showError(`Error loading script: ${err.message}`));\n",
              "    } else {\n",
              "      maybeLoadScript(\"vega\", \"5\")\n",
              "        .then(() => maybeLoadScript(\"vega-lite\", \"5.20.1\"))\n",
              "        .then(() => maybeLoadScript(\"vega-embed\", \"6\"))\n",
              "        .catch(showError)\n",
              "        .then(() => displayChart(vegaEmbed));\n",
              "    }\n",
              "  })({\"config\": {\"view\": {\"continuousWidth\": 300, \"continuousHeight\": 300, \"stroke\": null}, \"header\": {\"labelOrient\": \"bottom\", \"titleOrient\": \"bottom\"}}, \"data\": {\"name\": \"data-2f9ec4d8ee2cf3f468c3693d0a9541e9\"}, \"mark\": {\"type\": \"bar\"}, \"encoding\": {\"color\": {\"field\": \"Method\", \"scale\": {\"range\": [\"orange\", \"black\"]}, \"type\": \"nominal\"}, \"column\": {\"field\": \"index\", \"header\": {\"labelOrient\": \"bottom\", \"titleOrient\": \"bottom\"}, \"title\": \"Asset\", \"type\": \"nominal\"}, \"tooltip\": [{\"field\": \"index\", \"type\": \"nominal\"}, {\"field\": \"Method\", \"type\": \"nominal\"}, {\"field\": \"Return\", \"type\": \"quantitative\"}], \"x\": {\"axis\": null, \"field\": \"Method\", \"type\": \"nominal\"}, \"y\": {\"field\": \"Return\", \"title\": \"Annualized Return\", \"type\": \"quantitative\"}}, \"title\": \"Comparaci\\u00f3n Retornos Promedio vs CAPM\", \"$schema\": \"https://vega.github.io/schema/vega-lite/v5.20.1.json\", \"datasets\": {\"data-2f9ec4d8ee2cf3f468c3693d0a9541e9\": [{\"index\": \"META\", \"Method\": \"ER Mean\", \"Return\": 0.3288578449763331}, {\"index\": \"PLD\", \"Method\": \"ER Mean\", \"Return\": -0.10140724452214578}, {\"index\": \"CVX\", \"Method\": \"ER Mean\", \"Return\": 0.0006439595465645986}, {\"index\": \"BA\", \"Method\": \"ER Mean\", \"Return\": -0.11173187569436638}, {\"index\": \"ABT\", \"Method\": \"ER Mean\", \"Return\": 0.011754875793442698}, {\"index\": \"AXP\", \"Method\": \"ER Mean\", \"Return\": 0.10728468088808452}, {\"index\": \"DD\", \"Method\": \"ER Mean\", \"Return\": -0.024057496969198455}, {\"index\": \"VZ\", \"Method\": \"ER Mean\", \"Return\": -0.0964696327938187}, {\"index\": \"KO\", \"Method\": \"ER Mean\", \"Return\": 0.027583577615888144}, {\"index\": \"NKE\", \"Method\": \"ER Mean\", \"Return\": -0.21652530851550067}, {\"index\": \"META\", \"Method\": \"ER CAPM\", \"Return\": 0.09590629062551888}, {\"index\": \"PLD\", \"Method\": \"ER CAPM\", \"Return\": 0.10061173097136998}, {\"index\": \"CVX\", \"Method\": \"ER CAPM\", \"Return\": 0.07723157425292228}, {\"index\": \"BA\", \"Method\": \"ER CAPM\", \"Return\": 0.0935045554489907}, {\"index\": \"ABT\", \"Method\": \"ER CAPM\", \"Return\": 0.07335938896831563}, {\"index\": \"AXP\", \"Method\": \"ER CAPM\", \"Return\": 0.0971806807191869}, {\"index\": \"DD\", \"Method\": \"ER CAPM\", \"Return\": 0.08546609485816173}, {\"index\": \"VZ\", \"Method\": \"ER CAPM\", \"Return\": 0.07326135896111041}, {\"index\": \"KO\", \"Method\": \"ER CAPM\", \"Return\": 0.06532092837748665}, {\"index\": \"NKE\", \"Method\": \"ER CAPM\", \"Return\": 0.08306435968163356}]}}, {\"mode\": \"vega-lite\"});\n",
              "</script>"
            ],
            "text/plain": [
              "alt.Chart(...)"
            ]
          },
          "execution_count": 178,
          "metadata": {},
          "output_type": "execute_result"
        }
      ],
      "source": [
        "blpor.compare_mean_capm_returns(mean_rets, capm_rets)"
      ]
    },
    {
      "cell_type": "code",
      "execution_count": null,
      "id": "8effa415-14dc-41e9-908f-a6f2ea570ec8",
      "metadata": {
        "id": "8effa415-14dc-41e9-908f-a6f2ea570ec8"
      },
      "outputs": [],
      "source": []
    }
  ],
  "metadata": {
    "kernelspec": {
      "display_name": "Python 3 (ipykernel)",
      "language": "python",
      "name": "python3"
    },
    "language_info": {
      "codemirror_mode": {
        "name": "ipython",
        "version": 3
      },
      "file_extension": ".py",
      "mimetype": "text/x-python",
      "name": "python",
      "nbconvert_exporter": "python",
      "pygments_lexer": "ipython3",
      "version": "3.9.21"
    },
    "colab": {
      "provenance": [],
      "include_colab_link": true
    }
  },
  "nbformat": 4,
  "nbformat_minor": 5
}